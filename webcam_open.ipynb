{
 "cells": [
  {
   "cell_type": "code",
   "execution_count": 2,
   "id": "1e15b613-a55e-4b9c-a04a-14fe1beaa705",
   "metadata": {},
   "outputs": [],
   "source": [
    "import cv2"
   ]
  },
  {
   "cell_type": "code",
   "execution_count": 4,
   "id": "f07b4ceb-529e-4010-ba83-186168064e6c",
   "metadata": {},
   "outputs": [],
   "source": [
    "# Open the default webcam (device index 0)\n",
    "cap = cv2.VideoCapture(0)\n",
    "\n",
    "# Infinite loop to continuously capture frames from the webcam\n",
    "while True:\n",
    "    # Read a single frame from the webcam\n",
    "    ret, img = cap.read()\n",
    "\n",
    "    # Display the frame in a window titled \"WebCam\"\n",
    "    cv2.imshow(\"WebCam\", img)\n",
    "\n",
    "    # Check if the 'q' key is pressed to break the loop and exit\n",
    "    if cv2.waitKey(1) & 0xFF == ord('q'):\n",
    "        break\n",
    "\n",
    "# Release the webcam resource\n",
    "cap.release()\n",
    "\n",
    "# Close all OpenCV windows\n",
    "cv2.destroyAllWindows()"
   ]
  },
  {
   "cell_type": "code",
   "execution_count": null,
   "id": "8701682c-d2ed-4df5-ae83-f804f25ba780",
   "metadata": {},
   "outputs": [],
   "source": []
  }
 ],
 "metadata": {
  "kernelspec": {
   "display_name": "Python 3 (ipykernel)",
   "language": "python",
   "name": "python3"
  },
  "language_info": {
   "codemirror_mode": {
    "name": "ipython",
    "version": 3
   },
   "file_extension": ".py",
   "mimetype": "text/x-python",
   "name": "python",
   "nbconvert_exporter": "python",
   "pygments_lexer": "ipython3",
   "version": "3.12.5"
  }
 },
 "nbformat": 4,
 "nbformat_minor": 5
}
